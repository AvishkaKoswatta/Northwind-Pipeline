{
 "cells": [
  {
   "cell_type": "code",
   "execution_count": 2,
   "metadata": {},
   "outputs": [
    {
     "name": "stdout",
     "output_type": "stream",
     "text": [
      "<class 'pandas.core.frame.DataFrame'>\n",
      "RangeIndex: 91 entries, 0 to 90\n",
      "Data columns (total 7 columns):\n",
      " #   Column        Non-Null Count  Dtype \n",
      "---  ------        --------------  ----- \n",
      " 0   CustomerID    91 non-null     int64 \n",
      " 1   CustomerName  91 non-null     object\n",
      " 2   ContactName   91 non-null     object\n",
      " 3   Address       91 non-null     object\n",
      " 4   City          91 non-null     object\n",
      " 5   PostalCode    91 non-null     object\n",
      " 6   Country       91 non-null     object\n",
      "dtypes: int64(1), object(6)\n",
      "memory usage: 5.1+ KB\n"
     ]
    },
    {
     "data": {
      "text/plain": [
       "0"
      ]
     },
     "execution_count": 2,
     "metadata": {},
     "output_type": "execute_result"
    }
   ],
   "source": [
    "import pandas as pd \n",
    "from sqlalchemy import create_engine\n",
    "\n",
    "DB_USER = 'root'\n",
    "DB_PASSWORD = 'hmak19991201***'\n",
    "DB_HOST = 'localhost'\n",
    "DB_NAME = 'northwind'\n",
    "\n",
    "engine = create_engine(f'mysql+pymysql://{DB_USER}:{DB_PASSWORD}@{DB_HOST}/{DB_NAME}')\n",
    "\n",
    "query = 'SELECT * FROM Customers'\n",
    "df = pd.read_sql(query, engine)\n",
    "\n",
    "#print(df.head()) \n",
    "\n",
    "df.shape\n",
    "\n",
    "df.info()\n",
    "\n",
    "df.isnull().sum()\n",
    "\n",
    "df.duplicated().sum()\n"
   ]
  }
 ],
 "metadata": {
  "kernelspec": {
   "display_name": "Python 3",
   "language": "python",
   "name": "python3"
  },
  "language_info": {
   "codemirror_mode": {
    "name": "ipython",
    "version": 3
   },
   "file_extension": ".py",
   "mimetype": "text/x-python",
   "name": "python",
   "nbconvert_exporter": "python",
   "pygments_lexer": "ipython3",
   "version": "3.12.0"
  }
 },
 "nbformat": 4,
 "nbformat_minor": 2
}
